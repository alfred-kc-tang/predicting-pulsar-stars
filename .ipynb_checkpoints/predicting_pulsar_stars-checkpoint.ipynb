{
 "cells": [
  {
   "cell_type": "markdown",
   "metadata": {},
   "source": [
    "# Predicting Pulsar Stars using scikit-learn"
   ]
  },
  {
   "cell_type": "code",
   "execution_count": 1,
   "metadata": {},
   "outputs": [],
   "source": [
    "import gc\n",
    "import time\n",
    "\n",
    "import numpy as np\n",
    "import pandas as pd\n",
    "from sklearn.decomposition import PCA\n",
    "from sklearn.ensemble import RandomForestClassifier\n",
    "from sklearn.linear_model import LinearRegression\n",
    "from sklearn.metrics import accuracy_score, classification_report\n",
    "from sklearn.model_selection import cross_val_score, GridSearchCV, cross_validate, train_test_split\n",
    "from sklearn.neural_network import MLPClassifier\n",
    "from sklearn.preprocessing import StandardScaler, normalize\n",
    "from sklearn.svm import SVC"
   ]
  },
  {
   "cell_type": "markdown",
   "metadata": {},
   "source": [
    "# Classifier Setup"
   ]
  },
  {
   "cell_type": "code",
   "execution_count": 2,
   "metadata": {},
   "outputs": [],
   "source": [
    "data = pd.read_csv('pulsar_stars.csv')\n",
    "x_data = data.loc[:, data.columns != \"y\"]\n",
    "y_data = data.loc[:, \"y\"]"
   ]
  },
  {
   "cell_type": "code",
   "execution_count": 3,
   "metadata": {},
   "outputs": [],
   "source": [
    "random_state = 100\n",
    "x_train, x_test, y_train, y_test = train_test_split(x_data, y_data, test_size=0.3,\n",
    "                                                    shuffle=True,\n",
    "                                                    random_state=random_state)"
   ]
  },
  {
   "cell_type": "markdown",
   "metadata": {},
   "source": [
    "# Linear Regression "
   ]
  },
  {
   "cell_type": "code",
   "execution_count": 5,
   "metadata": {},
   "outputs": [
    {
     "data": {
      "text/plain": [
       "LinearRegression()"
      ]
     },
     "execution_count": 5,
     "metadata": {},
     "output_type": "execute_result"
    }
   ],
   "source": [
    "regr = LinearRegression()\n",
    "regr.fit(x_train, y_train)"
   ]
  },
  {
   "cell_type": "code",
   "execution_count": 6,
   "metadata": {},
   "outputs": [
    {
     "name": "stdout",
     "output_type": "stream",
     "text": [
      "0.970705619412516\n"
     ]
    }
   ],
   "source": [
    "y_train_regr_pred = regr.predict(x_train)\n",
    "y_train_regr_pred[y_train_regr_pred >= 0.5] = 1\n",
    "y_train_regr_pred[y_train_regr_pred < 0.5] = 0\n",
    "print(accuracy_score(y_train, y_train_regr_pred))"
   ]
  },
  {
   "cell_type": "code",
   "execution_count": 6,
   "metadata": {},
   "outputs": [
    {
     "name": "stdout",
     "output_type": "stream",
     "text": [
      "0.9720670391061452\n"
     ]
    }
   ],
   "source": [
    "y_test_regr_pred = regr.predict(x_test)\n",
    "y_test_regr_pred[y_test_regr_pred >= 0.5] = 1\n",
    "y_test_regr_pred[y_test_regr_pred < 0.5] = 0\n",
    "print(accuracy_score(y_test, y_test_regr_pred))"
   ]
  },
  {
   "cell_type": "markdown",
   "metadata": {},
   "source": [
    "# Random Forest Classifier"
   ]
  },
  {
   "cell_type": "code",
   "execution_count": 7,
   "metadata": {},
   "outputs": [
    {
     "data": {
      "text/plain": [
       "RandomForestClassifier()"
      ]
     },
     "execution_count": 7,
     "metadata": {},
     "output_type": "execute_result"
    }
   ],
   "source": [
    "# WARNING: ignore \"FutureWarning: The default value of n_estimators will change\n",
    "# from 10 in version 0.20 to 100 in 0.22.\"10 in version 0.20 to 100 in 0.22.\"\n",
    "rfclf = RandomForestClassifier()\n",
    "rfclf.fit(x_train, y_train)"
   ]
  },
  {
   "cell_type": "code",
   "execution_count": 8,
   "metadata": {},
   "outputs": [
    {
     "name": "stdout",
     "output_type": "stream",
     "text": [
      "0.9959291187739464\n"
     ]
    }
   ],
   "source": [
    "y_train_rfclf_pred = rfclf.predict(x_train)\n",
    "print(accuracy_score(y_train, y_train_rfclf_pred))"
   ]
  },
  {
   "cell_type": "code",
   "execution_count": 9,
   "metadata": {},
   "outputs": [
    {
     "name": "stdout",
     "output_type": "stream",
     "text": [
      "0.9811918063314712\n"
     ]
    }
   ],
   "source": [
    "y_test_rfclf_pred = rfclf.predict(x_test)\n",
    "print(accuracy_score(y_test, y_test_rfclf_pred))"
   ]
  },
  {
   "cell_type": "markdown",
   "metadata": {},
   "source": [
    "## Feature Importance"
   ]
  },
  {
   "cell_type": "code",
   "execution_count": 10,
   "metadata": {},
   "outputs": [
    {
     "name": "stdout",
     "output_type": "stream",
     "text": [
      "[0.20461882 0.05611513 0.312567   0.23724652 0.03613368 0.06802656\n",
      " 0.0561676  0.0291247 ]\n"
     ]
    }
   ],
   "source": [
    "# Show the feature importance as evaluated by the Random Forest Classifier.\n",
    "print(rfclf.feature_importances_)"
   ]
  },
  {
   "cell_type": "code",
   "execution_count": 11,
   "metadata": {},
   "outputs": [
    {
     "name": "stdout",
     "output_type": "stream",
     "text": [
      "[2 3 0 5 6 1 4 7]\n"
     ]
    }
   ],
   "source": [
    "# Sort the features by importance in the descending order\n",
    "print(np.argsort(rfclf.feature_importances_)[::-1])"
   ]
  },
  {
   "cell_type": "markdown",
   "metadata": {},
   "source": [
    "## Hyper-parameter Tuning"
   ]
  },
  {
   "cell_type": "code",
   "execution_count": 12,
   "metadata": {},
   "outputs": [
    {
     "data": {
      "text/plain": [
       "GridSearchCV(cv=10, error_score='raise-deprecating',\n",
       "             estimator=RandomForestClassifier(bootstrap=True, class_weight=None,\n",
       "                                              criterion='gini', max_depth=None,\n",
       "                                              max_features='auto',\n",
       "                                              max_leaf_nodes=None,\n",
       "                                              min_impurity_decrease=0.0,\n",
       "                                              min_impurity_split=None,\n",
       "                                              min_samples_leaf=1,\n",
       "                                              min_samples_split=2,\n",
       "                                              min_weight_fraction_leaf=0.0,\n",
       "                                              n_estimators=10, n_jobs=None,\n",
       "                                              oob_score=False,\n",
       "                                              random_state=None, verbose=0,\n",
       "                                              warm_start=False),\n",
       "             iid='warn', n_jobs=None,\n",
       "             param_grid={'max_depth': [2, 5, 8, None],\n",
       "                         'n_estimators': [10, 100, 500]},\n",
       "             pre_dispatch='2*n_jobs', refit=True, return_train_score=False,\n",
       "             scoring=None, verbose=0)"
      ]
     },
     "execution_count": 12,
     "metadata": {},
     "output_type": "execute_result"
    }
   ],
   "source": [
    "# Tune the hyper-parameters 'n_estimators' and 'max_depth'.\n",
    "rf_parameters = {'n_estimators': [10, 100, 500], 'max_depth':[2, 5, 8, None]}\n",
    "tuned_rfclf = GridSearchCV(rfclf, rf_parameters, cv=10)\n",
    "tuned_rfclf.fit(x_train, y_train)"
   ]
  },
  {
   "cell_type": "code",
   "execution_count": 13,
   "metadata": {},
   "outputs": [
    {
     "name": "stdout",
     "output_type": "stream",
     "text": [
      "{'max_depth': None, 'n_estimators': 500}\n"
     ]
    }
   ],
   "source": [
    "# Show the best combination of parameters\n",
    "print(tuned_rfclf.best_params_)"
   ]
  },
  {
   "cell_type": "code",
   "execution_count": 14,
   "metadata": {},
   "outputs": [
    {
     "name": "stdout",
     "output_type": "stream",
     "text": [
      "0.978448275862069\n"
     ]
    }
   ],
   "source": [
    "# Show the best score\n",
    "print(tuned_rfclf.best_score_)"
   ]
  },
  {
   "cell_type": "markdown",
   "metadata": {},
   "source": [
    "# Support Vector Machine"
   ]
  },
  {
   "cell_type": "markdown",
   "metadata": {},
   "source": [
    "## Pre-processing"
   ]
  },
  {
   "cell_type": "code",
   "execution_count": 15,
   "metadata": {},
   "outputs": [],
   "source": [
    "# Standardize (or normalize) it, otherwise the grid search will take much longer.\n",
    "# Warning: ignore \"FutureWarning: The default value of gamma will change from\n",
    "# 'auto' to 'scale' in version 0.22 to account better for unscaled features.\n",
    "# Set gamma explicitly to 'auto' or 'scale' to avoid this warning\".\n",
    "scaler = StandardScaler()\n",
    "scaler.fit(x_train)\n",
    "x_train_std = scaler.transform(x_train)\n",
    "x_test_std = scaler.transform(x_test)"
   ]
  },
  {
   "cell_type": "code",
   "execution_count": 16,
   "metadata": {},
   "outputs": [
    {
     "data": {
      "text/plain": [
       "SVC(C=1.0, cache_size=200, class_weight=None, coef0=0.0,\n",
       "    decision_function_shape='ovr', degree=3, gamma='auto', kernel='rbf',\n",
       "    max_iter=-1, probability=False, random_state=None, shrinking=True,\n",
       "    tol=0.001, verbose=False)"
      ]
     },
     "execution_count": 16,
     "metadata": {},
     "output_type": "execute_result"
    }
   ],
   "source": [
    "svcclf = SVC(gamma=\"auto\")\n",
    "svcclf.fit(x_train_std, y_train)"
   ]
  },
  {
   "cell_type": "code",
   "execution_count": 17,
   "metadata": {},
   "outputs": [
    {
     "name": "stdout",
     "output_type": "stream",
     "text": [
      "0.978448275862069\n"
     ]
    }
   ],
   "source": [
    "# WARNING: ignore \"FutureWarning: The default value of gamma will change from\n",
    "# 'auto' to 'scale' in version 0.22 to account better for unscaled features.\n",
    "# Set gamma explicitly to 'auto' or 'scale' to avoid this warning\".\n",
    "y_train_svcclf_pred = svcclf.predict(x_train_std)\n",
    "print(accuracy_score(y_train, y_train_svcclf_pred))"
   ]
  },
  {
   "cell_type": "code",
   "execution_count": 18,
   "metadata": {},
   "outputs": [
    {
     "name": "stdout",
     "output_type": "stream",
     "text": [
      "0.9797020484171323\n"
     ]
    }
   ],
   "source": [
    "# WARNING: ignore \"FutureWarning: The default value of gamma will change from\n",
    "# 'auto' to 'scale' in version 0.22 to account better for unscaled features.\n",
    "# Set gamma explicitly to 'auto' or 'scale' to avoid this warning\".\n",
    "y_test_svcclf_pred = svcclf.predict(x_test_std)\n",
    "print(accuracy_score(y_test, y_test_svcclf_pred))"
   ]
  },
  {
   "cell_type": "markdown",
   "metadata": {},
   "source": [
    "## Hyper-parameter Tuning"
   ]
  },
  {
   "cell_type": "code",
   "execution_count": 18,
   "metadata": {},
   "outputs": [
    {
     "data": {
      "text/plain": [
       "GridSearchCV(cv=10, error_score='raise-deprecating',\n",
       "             estimator=SVC(C=1.0, cache_size=200, class_weight=None, coef0=0.0,\n",
       "                           decision_function_shape='ovr', degree=3,\n",
       "                           gamma='auto', kernel='rbf', max_iter=-1,\n",
       "                           probability=False, random_state=None, shrinking=True,\n",
       "                           tol=0.001, verbose=False),\n",
       "             iid='warn', n_jobs=None,\n",
       "             param_grid={'C': [0.001, 0.01, 0.1, 1, 10],\n",
       "                         'kernel': ('linear', 'rbf')},\n",
       "             pre_dispatch='2*n_jobs', refit=True, return_train_score=False,\n",
       "             scoring=None, verbose=0)"
      ]
     },
     "execution_count": 18,
     "metadata": {},
     "output_type": "execute_result"
    }
   ],
   "source": [
    "# Tune the hyper-parameters 'C' and 'kernel' (testing on rbf and linear).\n",
    "svc_parameters = {'kernel':('linear', 'rbf'), 'C':[0.001, 0.01, 0.1, 1, 10]}\n",
    "tuned_svcclf = GridSearchCV(svcclf, svc_parameters, cv=10)\n",
    "tuned_svcclf.fit(x_train_std, y_train)"
   ]
  },
  {
   "cell_type": "code",
   "execution_count": 19,
   "metadata": {},
   "outputs": [
    {
     "name": "stdout",
     "output_type": "stream",
     "text": [
      "0.9783684546615581\n"
     ]
    }
   ],
   "source": [
    "# Show the best score.\n",
    "print(tuned_svcclf.best_score_)"
   ]
  },
  {
   "cell_type": "markdown",
   "metadata": {},
   "source": [
    "# Support Vector Machine"
   ]
  },
  {
   "cell_type": "code",
   "execution_count": 20,
   "metadata": {},
   "outputs": [],
   "source": [
    "# Calculate the accuracies for both training and test sets after hyperparameter\n",
    "# tuning and normalization. \n",
    "y_train_tuned_svcclf_pred = tuned_svcclf.predict(x_train_std)\n",
    "svc_train_accuracy = accuracy_score(y_train, y_train_tuned_svcclf_pred)\n",
    "y_test_tuned_svcclf_pred = tuned_svcclf.predict(x_test_std)\n",
    "svc_test_accuracy = accuracy_score(y_test, y_test_tuned_svcclf_pred)"
   ]
  },
  {
   "cell_type": "code",
   "execution_count": 21,
   "metadata": {},
   "outputs": [
    {
     "name": "stdout",
     "output_type": "stream",
     "text": [
      "0.9806034482758621\n"
     ]
    }
   ],
   "source": [
    "print(svc_train_accuracy)"
   ]
  },
  {
   "cell_type": "code",
   "execution_count": 22,
   "metadata": {},
   "outputs": [
    {
     "name": "stdout",
     "output_type": "stream",
     "text": [
      "0.9813780260707635\n"
     ]
    }
   ],
   "source": [
    "print(svc_test_accuracy)"
   ]
  },
  {
   "cell_type": "code",
   "execution_count": 23,
   "metadata": {},
   "outputs": [],
   "source": [
    "# Calculate the rank test score, mean testing score and mean fit time for the\n",
    "# all hyperparameter values obtained above. The GridSearchCV class holds a \n",
    "# ‘cv_results_’ dictionary that helps us report these metrics easily.\n",
    "rank_test_score = tuned_svcclf.cv_results_[\"rank_test_score\"]\n",
    "mean_test_score = tuned_svcclf.cv_results_[\"mean_test_score\"]\n",
    "mean_fit_time = tuned_svcclf.cv_results_[\"mean_fit_time\"]"
   ]
  },
  {
   "cell_type": "code",
   "execution_count": 24,
   "metadata": {},
   "outputs": [
    {
     "name": "stdout",
     "output_type": "stream",
     "text": [
      "[ 8 10  7  9  5  6  3  4  2  1]\n"
     ]
    }
   ],
   "source": [
    "# Show the rank test score for all hyperparameter values obtained.\n",
    "print(rank_test_score)"
   ]
  },
  {
   "cell_type": "code",
   "execution_count": 25,
   "metadata": {},
   "outputs": [
    {
     "name": "stdout",
     "output_type": "stream",
     "text": [
      "[0.96847063 0.90876437 0.97413793 0.9683908  0.97717114 0.97573436\n",
      " 0.97788953 0.97757024 0.97796935 0.97836845]\n"
     ]
    }
   ],
   "source": [
    "# Show mean testing score for all of hyperparameter values obtained.\n",
    "print(mean_test_score)"
   ]
  },
  {
   "cell_type": "code",
   "execution_count": 26,
   "metadata": {},
   "outputs": [
    {
     "name": "stdout",
     "output_type": "stream",
     "text": [
      "[0.22501905 0.75369732 0.18820636 0.65757122 0.18741305 0.39506247\n",
      " 0.21553993 0.27932367 0.63216114 0.37264616]\n"
     ]
    }
   ],
   "source": [
    "# Show mean fit time for all of hyperparameter values obtained.\n",
    "print(mean_fit_time)"
   ]
  },
  {
   "cell_type": "markdown",
   "metadata": {},
   "source": [
    "# PCA"
   ]
  },
  {
   "cell_type": "code",
   "execution_count": 27,
   "metadata": {},
   "outputs": [
    {
     "data": {
      "text/plain": [
       "PCA(copy=True, iterated_power='auto', n_components=8, random_state=None,\n",
       "    svd_solver='full', tol=0.0, whiten=False)"
      ]
     },
     "execution_count": 27,
     "metadata": {},
     "output_type": "execute_result"
    }
   ],
   "source": [
    "# Perform dimensionality reduction on the data.\n",
    "pca = PCA(n_components=8, svd_solver='full')\n",
    "pca.fit(x_data)"
   ]
  },
  {
   "cell_type": "code",
   "execution_count": 28,
   "metadata": {},
   "outputs": [
    {
     "name": "stdout",
     "output_type": "stream",
     "text": [
      "[8.71053041e-01 7.81934383e-02 4.11562290e-02 6.15967691e-03\n",
      " 2.43717952e-03 9.58578490e-04 3.90570992e-05 2.79968662e-06]\n"
     ]
    }
   ],
   "source": [
    "# Show Percentages of variance explained by each principal component.\n",
    "print(pca.explained_variance_ratio_)"
   ]
  },
  {
   "cell_type": "code",
   "execution_count": 29,
   "metadata": {},
   "outputs": [
    {
     "name": "stdout",
     "output_type": "stream",
     "text": [
      "[14430.28004546  4323.5214088   3136.68022725  1213.47665361\n",
      "   763.30168073   478.70316467    96.62788002    25.87063984]\n"
     ]
    }
   ],
   "source": [
    "# Show the singular values corresponding to each principal component.\n",
    "print(pca.singular_values_)"
   ]
  },
  {
   "cell_type": "code",
   "execution_count": null,
   "metadata": {},
   "outputs": [],
   "source": []
  }
 ],
 "metadata": {
  "kernelspec": {
   "display_name": "Python 3",
   "language": "python",
   "name": "python3"
  },
  "language_info": {
   "codemirror_mode": {
    "name": "ipython",
    "version": 3
   },
   "file_extension": ".py",
   "mimetype": "text/x-python",
   "name": "python",
   "nbconvert_exporter": "python",
   "pygments_lexer": "ipython3",
   "version": "3.8.3"
  }
 },
 "nbformat": 4,
 "nbformat_minor": 2
}
