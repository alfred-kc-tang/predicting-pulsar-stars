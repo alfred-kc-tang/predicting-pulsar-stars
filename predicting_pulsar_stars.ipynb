{
 "cells": [
  {
   "cell_type": "markdown",
   "metadata": {},
   "source": [
    "# Predicting Pulsar Stars using scikit-learn"
   ]
  },
  {
   "cell_type": "code",
   "execution_count": 1,
   "metadata": {},
   "outputs": [],
   "source": [
    "import gc\n",
    "import time\n",
    "\n",
    "import numpy as np\n",
    "import pandas as pd\n",
    "from sklearn.decomposition import PCA\n",
    "from sklearn.ensemble import RandomForestClassifier\n",
    "from sklearn.linear_model import LinearRegression\n",
    "from sklearn.metrics import accuracy_score, classification_report\n",
    "from sklearn.model_selection import cross_val_score, GridSearchCV, cross_validate, train_test_split\n",
    "from sklearn.neural_network import MLPClassifier\n",
    "from sklearn.preprocessing import StandardScaler, normalize\n",
    "from sklearn.svm import SVC"
   ]
  },
  {
   "cell_type": "markdown",
   "metadata": {},
   "source": [
    "# Classifier Setup"
   ]
  },
  {
   "cell_type": "code",
   "execution_count": 2,
   "metadata": {},
   "outputs": [],
   "source": [
    "data = pd.read_csv('pulsar_stars.csv')\n",
    "x_data = data.loc[:, data.columns != \"y\"]\n",
    "y_data = data.loc[:, \"y\"]"
   ]
  },
  {
   "cell_type": "code",
   "execution_count": 3,
   "metadata": {},
   "outputs": [],
   "source": [
    "random_state = 100\n",
    "x_train, x_test, y_train, y_test = train_test_split(x_data, y_data, test_size=0.3,\n",
    "                                                    shuffle=True,\n",
    "                                                    random_state=random_state)"
   ]
  },
  {
   "cell_type": "markdown",
   "metadata": {},
   "source": [
    "# Linear Regression "
   ]
  },
  {
   "cell_type": "code",
   "execution_count": 4,
   "metadata": {},
   "outputs": [
    {
     "data": {
      "text/plain": [
       "LinearRegression()"
      ]
     },
     "execution_count": 4,
     "metadata": {},
     "output_type": "execute_result"
    }
   ],
   "source": [
    "regr = LinearRegression()\n",
    "regr.fit(x_train, y_train)"
   ]
  },
  {
   "cell_type": "code",
   "execution_count": 5,
   "metadata": {},
   "outputs": [
    {
     "name": "stdout",
     "output_type": "stream",
     "text": [
      "0.970705619412516\n"
     ]
    }
   ],
   "source": [
    "y_train_regr_pred = regr.predict(x_train)\n",
    "y_train_regr_pred[y_train_regr_pred >= 0.5] = 1\n",
    "y_train_regr_pred[y_train_regr_pred < 0.5] = 0\n",
    "print(accuracy_score(y_train, y_train_regr_pred))"
   ]
  },
  {
   "cell_type": "code",
   "execution_count": 6,
   "metadata": {},
   "outputs": [
    {
     "name": "stdout",
     "output_type": "stream",
     "text": [
      "0.9720670391061452\n"
     ]
    }
   ],
   "source": [
    "y_test_regr_pred = regr.predict(x_test)\n",
    "y_test_regr_pred[y_test_regr_pred >= 0.5] = 1\n",
    "y_test_regr_pred[y_test_regr_pred < 0.5] = 0\n",
    "print(accuracy_score(y_test, y_test_regr_pred))"
   ]
  },
  {
   "cell_type": "markdown",
   "metadata": {},
   "source": [
    "# Random Forest Classifier"
   ]
  },
  {
   "cell_type": "code",
   "execution_count": 7,
   "metadata": {},
   "outputs": [
    {
     "data": {
      "text/plain": [
       "RandomForestClassifier()"
      ]
     },
     "execution_count": 7,
     "metadata": {},
     "output_type": "execute_result"
    }
   ],
   "source": [
    "# WARNING: ignore \"FutureWarning: The default value of n_estimators will change\n",
    "# from 10 in version 0.20 to 100 in 0.22.\"10 in version 0.20 to 100 in 0.22.\"\n",
    "rfclf = RandomForestClassifier()\n",
    "rfclf.fit(x_train, y_train)"
   ]
  },
  {
   "cell_type": "code",
   "execution_count": 8,
   "metadata": {},
   "outputs": [
    {
     "name": "stdout",
     "output_type": "stream",
     "text": [
      "1.0\n"
     ]
    }
   ],
   "source": [
    "y_train_rfclf_pred = rfclf.predict(x_train)\n",
    "print(accuracy_score(y_train, y_train_rfclf_pred))"
   ]
  },
  {
   "cell_type": "code",
   "execution_count": 9,
   "metadata": {},
   "outputs": [
    {
     "name": "stdout",
     "output_type": "stream",
     "text": [
      "0.982122905027933\n"
     ]
    }
   ],
   "source": [
    "y_test_rfclf_pred = rfclf.predict(x_test)\n",
    "print(accuracy_score(y_test, y_test_rfclf_pred))"
   ]
  },
  {
   "cell_type": "markdown",
   "metadata": {},
   "source": [
    "## Feature Importance"
   ]
  },
  {
   "cell_type": "code",
   "execution_count": 10,
   "metadata": {},
   "outputs": [
    {
     "name": "stdout",
     "output_type": "stream",
     "text": [
      "[0.25426836 0.04221348 0.2764117  0.19695874 0.07062171 0.06899106\n",
      " 0.047483   0.04305194]\n"
     ]
    }
   ],
   "source": [
    "# Show the feature importance as evaluated by the Random Forest Classifier.\n",
    "print(rfclf.feature_importances_)"
   ]
  },
  {
   "cell_type": "code",
   "execution_count": 11,
   "metadata": {},
   "outputs": [
    {
     "name": "stdout",
     "output_type": "stream",
     "text": [
      "[2 0 3 4 5 6 7 1]\n"
     ]
    }
   ],
   "source": [
    "# Sort the features by importance in the descending order\n",
    "print(np.argsort(rfclf.feature_importances_)[::-1])"
   ]
  },
  {
   "cell_type": "markdown",
   "metadata": {},
   "source": [
    "## Hyper-parameter Tuning"
   ]
  },
  {
   "cell_type": "code",
   "execution_count": 12,
   "metadata": {},
   "outputs": [
    {
     "data": {
      "text/plain": [
       "GridSearchCV(cv=10, estimator=RandomForestClassifier(),\n",
       "             param_grid={'max_depth': [2, 5, 8, None],\n",
       "                         'n_estimators': [10, 100, 500]})"
      ]
     },
     "execution_count": 12,
     "metadata": {},
     "output_type": "execute_result"
    }
   ],
   "source": [
    "# Tune the hyper-parameters 'n_estimators' and 'max_depth'.\n",
    "rf_parameters = {'n_estimators': [10, 100, 500], 'max_depth':[2, 5, 8, None]}\n",
    "tuned_rfclf = GridSearchCV(rfclf, rf_parameters, cv=10)\n",
    "tuned_rfclf.fit(x_train, y_train)"
   ]
  },
  {
   "cell_type": "code",
   "execution_count": 13,
   "metadata": {},
   "outputs": [
    {
     "name": "stdout",
     "output_type": "stream",
     "text": [
      "{'max_depth': None, 'n_estimators': 500}\n"
     ]
    }
   ],
   "source": [
    "# Show the best combination of parameters\n",
    "print(tuned_rfclf.best_params_)"
   ]
  },
  {
   "cell_type": "code",
   "execution_count": 14,
   "metadata": {},
   "outputs": [
    {
     "name": "stdout",
     "output_type": "stream",
     "text": [
      "0.97844865613263\n"
     ]
    }
   ],
   "source": [
    "# Show the best score\n",
    "print(tuned_rfclf.best_score_)"
   ]
  },
  {
   "cell_type": "markdown",
   "metadata": {},
   "source": [
    "# Support Vector Machine"
   ]
  },
  {
   "cell_type": "markdown",
   "metadata": {},
   "source": [
    "## Pre-processing"
   ]
  },
  {
   "cell_type": "code",
   "execution_count": 15,
   "metadata": {},
   "outputs": [],
   "source": [
    "# Standardize (or normalize) it, otherwise the grid search will take much longer.\n",
    "# Warning: ignore \"FutureWarning: The default value of gamma will change from\n",
    "# 'auto' to 'scale' in version 0.22 to account better for unscaled features.\n",
    "# Set gamma explicitly to 'auto' or 'scale' to avoid this warning\".\n",
    "scaler = StandardScaler()\n",
    "scaler.fit(x_train)\n",
    "x_train_std = scaler.transform(x_train)\n",
    "x_test_std = scaler.transform(x_test)"
   ]
  },
  {
   "cell_type": "code",
   "execution_count": 16,
   "metadata": {},
   "outputs": [
    {
     "data": {
      "text/plain": [
       "SVC(gamma='auto')"
      ]
     },
     "execution_count": 16,
     "metadata": {},
     "output_type": "execute_result"
    }
   ],
   "source": [
    "svcclf = SVC(gamma=\"auto\")\n",
    "svcclf.fit(x_train_std, y_train)"
   ]
  },
  {
   "cell_type": "code",
   "execution_count": 17,
   "metadata": {},
   "outputs": [
    {
     "name": "stdout",
     "output_type": "stream",
     "text": [
      "0.978448275862069\n"
     ]
    }
   ],
   "source": [
    "# WARNING: ignore \"FutureWarning: The default value of gamma will change from\n",
    "# 'auto' to 'scale' in version 0.22 to account better for unscaled features.\n",
    "# Set gamma explicitly to 'auto' or 'scale' to avoid this warning\".\n",
    "y_train_svcclf_pred = svcclf.predict(x_train_std)\n",
    "print(accuracy_score(y_train, y_train_svcclf_pred))"
   ]
  },
  {
   "cell_type": "code",
   "execution_count": 18,
   "metadata": {},
   "outputs": [
    {
     "name": "stdout",
     "output_type": "stream",
     "text": [
      "0.9797020484171323\n"
     ]
    }
   ],
   "source": [
    "# WARNING: ignore \"FutureWarning: The default value of gamma will change from\n",
    "# 'auto' to 'scale' in version 0.22 to account better for unscaled features.\n",
    "# Set gamma explicitly to 'auto' or 'scale' to avoid this warning\".\n",
    "y_test_svcclf_pred = svcclf.predict(x_test_std)\n",
    "print(accuracy_score(y_test, y_test_svcclf_pred))"
   ]
  },
  {
   "cell_type": "markdown",
   "metadata": {},
   "source": [
    "## Hyper-parameter Tuning"
   ]
  },
  {
   "cell_type": "code",
   "execution_count": 19,
   "metadata": {},
   "outputs": [
    {
     "data": {
      "text/plain": [
       "GridSearchCV(cv=10, estimator=SVC(gamma='auto'),\n",
       "             param_grid={'C': [0.001, 0.01, 0.1, 1, 10],\n",
       "                         'kernel': ('linear', 'rbf')})"
      ]
     },
     "execution_count": 19,
     "metadata": {},
     "output_type": "execute_result"
    }
   ],
   "source": [
    "# Tune the hyper-parameters 'C' and 'kernel' (testing on rbf and linear).\n",
    "svc_parameters = {'kernel':('linear', 'rbf'), 'C':[0.001, 0.01, 0.1, 1, 10]}\n",
    "tuned_svcclf = GridSearchCV(svcclf, svc_parameters, cv=10)\n",
    "tuned_svcclf.fit(x_train_std, y_train)"
   ]
  },
  {
   "cell_type": "code",
   "execution_count": 20,
   "metadata": {},
   "outputs": [
    {
     "name": "stdout",
     "output_type": "stream",
     "text": [
      "0.9782890392132366\n"
     ]
    }
   ],
   "source": [
    "# Show the best score.\n",
    "print(tuned_svcclf.best_score_)"
   ]
  },
  {
   "cell_type": "markdown",
   "metadata": {},
   "source": [
    "# Support Vector Machine"
   ]
  },
  {
   "cell_type": "code",
   "execution_count": 21,
   "metadata": {},
   "outputs": [],
   "source": [
    "# Calculate the accuracies for both training and test sets after hyperparameter\n",
    "# tuning and normalization. \n",
    "y_train_tuned_svcclf_pred = tuned_svcclf.predict(x_train_std)\n",
    "svc_train_accuracy = accuracy_score(y_train, y_train_tuned_svcclf_pred)\n",
    "y_test_tuned_svcclf_pred = tuned_svcclf.predict(x_test_std)\n",
    "svc_test_accuracy = accuracy_score(y_test, y_test_tuned_svcclf_pred)"
   ]
  },
  {
   "cell_type": "code",
   "execution_count": 22,
   "metadata": {},
   "outputs": [
    {
     "name": "stdout",
     "output_type": "stream",
     "text": [
      "0.9806034482758621\n"
     ]
    }
   ],
   "source": [
    "print(svc_train_accuracy)"
   ]
  },
  {
   "cell_type": "code",
   "execution_count": 23,
   "metadata": {},
   "outputs": [
    {
     "name": "stdout",
     "output_type": "stream",
     "text": [
      "0.9813780260707635\n"
     ]
    }
   ],
   "source": [
    "print(svc_test_accuracy)"
   ]
  },
  {
   "cell_type": "code",
   "execution_count": 24,
   "metadata": {},
   "outputs": [],
   "source": [
    "# Calculate the rank test score, mean testing score and mean fit time for the\n",
    "# all hyperparameter values obtained above. The GridSearchCV class holds a \n",
    "# ‘cv_results_’ dictionary that helps us report these metrics easily.\n",
    "rank_test_score = tuned_svcclf.cv_results_[\"rank_test_score\"]\n",
    "mean_test_score = tuned_svcclf.cv_results_[\"mean_test_score\"]\n",
    "mean_fit_time = tuned_svcclf.cv_results_[\"mean_fit_time\"]"
   ]
  },
  {
   "cell_type": "code",
   "execution_count": 25,
   "metadata": {},
   "outputs": [
    {
     "name": "stdout",
     "output_type": "stream",
     "text": [
      "[ 8 10  7  9  5  6  2  4  3  1]\n"
     ]
    }
   ],
   "source": [
    "# Show the rank test score for all hyperparameter values obtained.\n",
    "print(rank_test_score)"
   ]
  },
  {
   "cell_type": "code",
   "execution_count": 26,
   "metadata": {},
   "outputs": [
    {
     "name": "stdout",
     "output_type": "stream",
     "text": [
      "[0.96839113 0.9087644  0.97413823 0.96831126 0.97717147 0.97581447\n",
      " 0.97804942 0.97757064 0.97796961 0.97828904]\n"
     ]
    }
   ],
   "source": [
    "# Show mean testing score for all of hyperparameter values obtained.\n",
    "print(mean_test_score)"
   ]
  },
  {
   "cell_type": "code",
   "execution_count": 27,
   "metadata": {},
   "outputs": [
    {
     "name": "stdout",
     "output_type": "stream",
     "text": [
      "[0.18931091 0.63046844 0.13762269 0.49669123 0.14785182 0.28201809\n",
      " 0.22270532 0.26109602 0.66548913 0.37899776]\n"
     ]
    }
   ],
   "source": [
    "# Show mean fit time for all of hyperparameter values obtained.\n",
    "print(mean_fit_time)"
   ]
  },
  {
   "cell_type": "markdown",
   "metadata": {},
   "source": [
    "# PCA"
   ]
  },
  {
   "cell_type": "code",
   "execution_count": 28,
   "metadata": {},
   "outputs": [
    {
     "data": {
      "text/plain": [
       "PCA(n_components=8, svd_solver='full')"
      ]
     },
     "execution_count": 28,
     "metadata": {},
     "output_type": "execute_result"
    }
   ],
   "source": [
    "# Perform dimensionality reduction on the data.\n",
    "pca = PCA(n_components=8, svd_solver='full')\n",
    "pca.fit(x_data)"
   ]
  },
  {
   "cell_type": "code",
   "execution_count": 29,
   "metadata": {},
   "outputs": [
    {
     "name": "stdout",
     "output_type": "stream",
     "text": [
      "[8.71053041e-01 7.81934383e-02 4.11562290e-02 6.15967691e-03\n",
      " 2.43717952e-03 9.58578490e-04 3.90570992e-05 2.79968662e-06]\n"
     ]
    }
   ],
   "source": [
    "# Show Percentages of variance explained by each principal component.\n",
    "print(pca.explained_variance_ratio_)"
   ]
  },
  {
   "cell_type": "code",
   "execution_count": 30,
   "metadata": {},
   "outputs": [
    {
     "name": "stdout",
     "output_type": "stream",
     "text": [
      "[14430.28004546  4323.5214088   3136.68022725  1213.47665361\n",
      "   763.30168073   478.70316467    96.62788002    25.87063984]\n"
     ]
    }
   ],
   "source": [
    "# Show the singular values corresponding to each principal component.\n",
    "print(pca.singular_values_)"
   ]
  },
  {
   "cell_type": "code",
   "execution_count": null,
   "metadata": {},
   "outputs": [],
   "source": []
  }
 ],
 "metadata": {
  "kernelspec": {
   "display_name": "Python 3",
   "language": "python",
   "name": "python3"
  },
  "language_info": {
   "codemirror_mode": {
    "name": "ipython",
    "version": 3
   },
   "file_extension": ".py",
   "mimetype": "text/x-python",
   "name": "python",
   "nbconvert_exporter": "python",
   "pygments_lexer": "ipython3",
   "version": "3.8.3"
  }
 },
 "nbformat": 4,
 "nbformat_minor": 2
}
